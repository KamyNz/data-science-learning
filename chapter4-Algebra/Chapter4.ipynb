{
 "cells": [
  {
   "cell_type": "markdown",
   "metadata": {},
   "source": [
    "## Chapter 4"
   ]
  },
  {
   "cell_type": "markdown",
   "metadata": {},
   "source": [
    "Chapter pharse: is there anything more useless or less useful than algebra ? - Billy Connolly"
   ]
  },
  {
   "cell_type": "markdown",
   "metadata": {},
   "source": [
    "1. Linear algebra is the branch of mathematics that deals with vector space\n",
    "\n",
    "2. What is a vector: Are objects that can be added together to form new vectors and that can be multiplied by scalars (i.e. numbers), also to form new vectors.\n",
    "\n",
    "3. Vectors are points in some finite-dimensional space.\n",
    "\n",
    "4. Vectors add componentwise, which means that if two vectors v and w have the same length, their sum is just the vector whose first element is v[0] + w[0]\n",
    "\n"
   ]
  },
  {
   "cell_type": "code",
   "execution_count": 2,
   "metadata": {},
   "outputs": [],
   "source": [
    "## Importing modules\n",
    "#from __future__ import annotations\n",
    "import sys,os\n",
    "import traceback\n",
    "from typing import List, Dict, Iterable, Tuple"
   ]
  },
  {
   "cell_type": "markdown",
   "metadata": {},
   "source": [
    "### Note 1: Using zip-ing vectors and typing to have arithmetic operations, restudying algebra"
   ]
  },
  {
   "cell_type": "code",
   "execution_count": 3,
   "metadata": {},
   "outputs": [],
   "source": [
    "# Making add function\n",
    "def add(v: float, w: float) -> float:\n",
    "    \"\"\"Adding corresponding elements\"\"\"\n",
    "    assert len(v)==len(w), \"vectors must be the same length\"\n",
    "    \n",
    "    #Making list compression\n",
    "    list_output = [v_i + w_i for v_i, w_i in zip(v,w)]\n",
    "    return(list_output)\n"
   ]
  },
  {
   "cell_type": "code",
   "execution_count": 4,
   "metadata": {},
   "outputs": [
    {
     "name": "stdout",
     "output_type": "stream",
     "text": [
      "An error occurred on line 3 in statement assert add([1,2,3],[4,5,6]) == [5,7,10]\n"
     ]
    },
    {
     "name": "stderr",
     "output_type": "stream",
     "text": [
      "  File \"<ipython-input-4-f5bc90bdfc79>\", line 3, in <module>\n",
      "    assert add([1,2,3],[4,5,6]) == [5,7,10]\n"
     ]
    }
   ],
   "source": [
    "## Doing assert of add and Catching error to debug easily\n",
    "try:\n",
    "    assert add([1,2,3],[4,5,6]) == [5,7,10]\n",
    "except AssertionError:\n",
    "    _, _, tb = sys.exc_info()\n",
    "    traceback.print_tb(tb) # Fixed format\n",
    "    tb_info = traceback.extract_tb(tb)\n",
    "    filename, line, func, text = tb_info[-1]\n",
    "\n",
    "    print('An error occurred on line {} in statement {}'.format(line, text))\n",
    "    exit(1)\n"
   ]
  },
  {
   "cell_type": "code",
   "execution_count": 5,
   "metadata": {},
   "outputs": [],
   "source": [
    "# Making substract function\n",
    "def subtract(v:float, w:float) -> float:\n",
    "    \"\"\"Substracts corresponding elements\"\"\"\n",
    "    assert len(v)==len(w)\n",
    "    \n",
    "    #Making list compression\n",
    "    list_output = [v_i - w_i for v_i, w_i in zip(v,w)]\n",
    "    \n",
    "    return(list_output)"
   ]
  },
  {
   "cell_type": "code",
   "execution_count": 6,
   "metadata": {},
   "outputs": [],
   "source": [
    "try:\n",
    "    assert subtract([5, 7, 9], [4, 5, 6]) == [1, 2, 3]\n",
    "except AssertionError:\n",
    "    _, _, tb = sys.exc_info()\n",
    "    traceback.print_tb(tb) # Fixed format\n",
    "    tb_info = traceback.extract_tb(tb)\n",
    "    filename, line, func, text = tb_info[-1]\n",
    "\n",
    "    print('An error occurred on line {} in statement {}'.format(line, text))\n",
    "    exit(1)"
   ]
  },
  {
   "cell_type": "code",
   "execution_count": 7,
   "metadata": {},
   "outputs": [],
   "source": [
    "# Defining Vector annotation\n",
    "Vector = List[float]\n",
    "\n",
    "# Making add function\n",
    "def add(v: Vector, w: Vector) -> Vector:\n",
    "    \"\"\"Adding corresponding elements\"\"\"\n",
    "    assert len(v)==len(w), \"vectors must be the same length\"\n",
    "    \n",
    "    #Making list compression\n",
    "    list_output = [v_i + w_i for v_i, w_i in zip(v,w)]\n",
    "    return(list_output)\n",
    "\n",
    "# Making substract function\n",
    "def subtract(v:Vector, w:Vector) -> Vector:\n",
    "    \"\"\"Substracts corresponding elements\"\"\"\n",
    "    assert len(v)==len(w)\n",
    "    \n",
    "    #Making list compression\n",
    "    list_output = [v_i - w_i for v_i, w_i in zip(v,w)]\n",
    "    return(list_output)\n",
    "\n",
    "# Making vector sum, which mean having a list of vector\n",
    "def vector_sum(vectors: List[Vector]) -> Vector:\n",
    "    \"\"\"Sums all corresponding elements\"\"\"\n",
    "    # Check if vectors provided are not empty\n",
    "    assert vectors, \"no vectors provided\"\n",
    "    \n",
    "    #Check  the vectors are all the same size\n",
    "    num_elements_ref = len(vectors[0]) # getting size of vector vector in list\n",
    "    #print(num_elements_ref)\n",
    "    \n",
    "    #Using assert with list compression to check that vectors in list has the same lenght\n",
    "    assert all(len(v) == num_elements_ref for v in vectors), \"different sizes!\"\n",
    "    \n",
    "    # the i-th element of the result is the sum of every vector[i]\n",
    "    return [sum(vector[i] for vector in vectors)\n",
    "            for i in range(num_elements_ref)] # This list compression goes from outside to inside\n",
    "    # Therefore the for i in range(num_elements_ref) is executed first\n",
    "    # Then, goes for vector in vectors\n",
    "    # Then, the sum is done by the i-th element\n",
    "    \n",
    "# Also we can do function to multiply a vector by a scalar\n",
    "def scalar_multiply(c:float, v:Vector) -> Vector:\n",
    "    \"\"\"Multiplies every elements by c\"\"\"\n",
    "    return [c*v_i for v_i in v]\n",
    "\n",
    "# Making the computation of the componentwise, which means of a list of (same-sized vectors)\n",
    "def vector_mean(vectors:List[Vector]) -> Vector:\n",
    "    \"\"\"Computes the element-wise average\"\"\"\n",
    "    # Here we are going to use the vector_sum function that uses the sum function\n",
    "    # And then use scalar_multiply that allows us to divide everything by the size of the list of vectors\n",
    "    n = len(vectors)\n",
    "    return scalar_multiply(1/n,vector_sum(vectors))"
   ]
  },
  {
   "cell_type": "code",
   "execution_count": 8,
   "metadata": {},
   "outputs": [],
   "source": [
    "try:\n",
    "    assert vector_sum([[1, 2], [3, 4], [5, 6], [7, 8]]) == [16, 20]\n",
    "    assert scalar_multiply(2, [1, 2, 3]) == [2, 4, 6]\n",
    "    assert vector_mean([[1, 2], [3, 4], [5, 6]]) == [3, 4]\n",
    "except AssertionError:\n",
    "    _, _, tb = sys.exc_info()\n",
    "    traceback.print_tb(tb) # Fixed format\n",
    "    tb_info = traceback.extract_tb(tb)\n",
    "    filename, line, func, text = tb_info[-1]\n",
    "\n",
    "    print('An error occurred on line {} in statement {}'.format(line, text))\n",
    "    exit(1)\n",
    "    "
   ]
  },
  {
   "cell_type": "markdown",
   "metadata": {},
   "source": [
    "### Note 2: Doing dot product, which is the sum of their componentwise products"
   ]
  },
  {
   "cell_type": "code",
   "execution_count": 9,
   "metadata": {},
   "outputs": [],
   "source": [
    "def dot(v:Vector, w:Vector) -> float:\n",
    "    \"\"\"Computes v_1 * w_1 + ... + v_n * w_n\"\"\"\n",
    "    assert len(v) == len(w), \"vectors must be same length\"\n",
    "\n",
    "    return sum(v_i * w_i for v_i, w_i in zip(v,w))"
   ]
  },
  {
   "cell_type": "code",
   "execution_count": 10,
   "metadata": {},
   "outputs": [],
   "source": [
    "try:\n",
    "    assert dot([1, 2, 3], [4, 5, 6]) == 32  # 1 * 4 + 2 * 5 + 3 * 6\n",
    "except AssertionError:\n",
    "    _, _, tb = sys.exc_info()\n",
    "    traceback.print_tb(tb) # Fixed format\n",
    "    tb_info = traceback.extract_tb(tb)\n",
    "    filename, line, func, text = tb_info[-1]\n",
    "\n",
    "    print('An error occurred on line {} in statement {}'.format(line, text))\n",
    "    exit(1)"
   ]
  },
  {
   "cell_type": "markdown",
   "metadata": {},
   "source": [
    "### Note 3: Computing vector's sum of squares "
   ]
  },
  {
   "cell_type": "code",
   "execution_count": 14,
   "metadata": {},
   "outputs": [],
   "source": [
    "def sum_of_squares(v:Vector) -> float:\n",
    "    \"\"\"Return v_1 * v_1 + ...+ v_n * v_n\"\"\"\n",
    "    return dot(v,v)\n",
    "\n",
    "try:\n",
    "    assert sum_of_squares([1,2,3]) == 14  # 1 * 4 + 2 * 5 + 3 * 6\n",
    "except AssertionError:\n",
    "    _, _, tb = sys.exc_info()\n",
    "    traceback.print_tb(tb) # Fixed format\n",
    "    tb_info = traceback.extract_tb(tb)\n",
    "    filename, line, func, text = tb_info[-1]\n",
    "\n",
    "    print('An error occurred on line {} in statement {}'.format(line, text))\n",
    "    exit(1)"
   ]
  },
  {
   "cell_type": "markdown",
   "metadata": {},
   "source": [
    "### Note 4: Computing magnitude, getting square root function"
   ]
  },
  {
   "cell_type": "code",
   "execution_count": 16,
   "metadata": {},
   "outputs": [],
   "source": [
    "import math\n",
    "\n",
    "def magnitude(v: Vector) -> float:\n",
    "    \"\"\"Return the magnitude (or length) of v\"\"\"\n",
    "    return math.sqrt(sum_of_squares(v))\n"
   ]
  },
  {
   "cell_type": "code",
   "execution_count": 17,
   "metadata": {},
   "outputs": [],
   "source": [
    "try:\n",
    "    assert magnitude([3, 4]) == 5\n",
    "except AssertionError:\n",
    "    _, _, tb = sys.exc_info()\n",
    "    traceback.print_tb(tb) # Fixed format\n",
    "    tb_info = traceback.extract_tb(tb)\n",
    "    filename, line, func, text = tb_info[-1]\n",
    "\n",
    "    print('An error occurred on line {} in statement {}'.format(line, text))\n",
    "    exit(1)"
   ]
  },
  {
   "cell_type": "code",
   "execution_count": null,
   "metadata": {},
   "outputs": [],
   "source": []
  },
  {
   "cell_type": "code",
   "execution_count": null,
   "metadata": {},
   "outputs": [],
   "source": []
  }
 ],
 "metadata": {
  "kernelspec": {
   "display_name": "Python 3",
   "language": "python",
   "name": "python3"
  },
  "language_info": {
   "codemirror_mode": {
    "name": "ipython",
    "version": 3
   },
   "file_extension": ".py",
   "mimetype": "text/x-python",
   "name": "python",
   "nbconvert_exporter": "python",
   "pygments_lexer": "ipython3",
   "version": "3.6.8"
  }
 },
 "nbformat": 4,
 "nbformat_minor": 2
}
